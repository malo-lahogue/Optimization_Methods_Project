{
 "cells": [
  {
   "cell_type": "code",
   "execution_count": 7,
   "metadata": {},
   "outputs": [
    {
     "data": {
      "text/plain": [
       "sample_cf (generic function with 1 method)"
      ]
     },
     "metadata": {},
     "output_type": "display_data"
    }
   ],
   "source": [
    "using Pkg\n",
    "#Pkg.add(\"Ipopt\")\n",
    "#Pkg.add(\"Juniper\")\n",
    "using Ipopt\n",
    "using JuMP\n",
    "using JuMP\n",
    "using CSV\n",
    "using DataFrames\n",
    "using PowerModels\n",
    "using Ipopt\n",
    "using Juniper\n",
    "include(\"run_optimization.jl\")\n",
    "include(\"scenario_generation.jl\")"
   ]
  },
  {
   "cell_type": "code",
   "execution_count": 18,
   "metadata": {},
   "outputs": [
    {
     "data": {
      "text/plain": [
       "100-element Vector{Float64}:\n",
       " 0.47331367399366375\n",
       " 0.9091464451688236\n",
       " 0.992407216456779\n",
       " 0.4815105451919439\n",
       " 0.9954692322785169\n",
       " 0.5036669741353667\n",
       " 0.9799583528115908\n",
       " 0.9764829356953012\n",
       " 0.40800714323607057\n",
       " 0.889420126914311\n",
       " ⋮\n",
       " 0.9853041959071527\n",
       " 0.9683997338207048\n",
       " 0.7335140771010138\n",
       " 0.8949725923347613\n",
       " 0.4781533521023015\n",
       " 0.6563710214978202\n",
       " 0.454448443783417\n",
       " 0.6455645482582448\n",
       " 0.9468727506944171"
      ]
     },
     "metadata": {},
     "output_type": "display_data"
    }
   ],
   "source": [
    "#generate the scenarios\n",
    "S = 100\n",
    "seasons = rand([\"winter\", \"spring\", \"summer\", \"fall\"], S)\n",
    "times = rand(1:24, S)\n",
    "\n",
    "cf = [sample_cf(s, t) for (s, t) in zip(seasons, times)]\n",
    "lf = [sample_load(s, t) for (s, t) in zip(seasons, times)]"
   ]
  },
  {
   "cell_type": "code",
   "execution_count": null,
   "metadata": {},
   "outputs": [],
   "source": [
    "#run the optimization model\n",
    "data_path = \"DATA/\"\n",
    "baseMVA = 10;\n",
    "beta = 1;\n",
    "gamma = 1;\n",
    "\n",
    "cost, capacity = run_optimization(data_path, baseMVA, beta, gamma, cf, lf)\n"
   ]
  },
  {
   "cell_type": "code",
   "execution_count": 4,
   "metadata": {},
   "outputs": [
    {
     "data": {
      "text/plain": [
       "18-element Vector{Float64}:\n",
       " 18.63836487931832\n",
       " 19.66172099443036\n",
       " 23.493090465667684\n",
       " 29.028885276386244\n",
       " 48.39124213888313\n",
       " 37.716177637562936\n",
       " 28.85931831531998\n",
       " 29.534461453904864\n",
       " 19.81771136045244\n",
       " 19.80725152643704\n",
       " 20.095284039229664\n",
       " 19.901870424630623\n",
       " 21.197068762625054\n",
       " 21.328033218678275\n",
       " 21.56844432642101\n",
       " 21.461985750516693\n",
       " 14.117860747869225\n",
       " 14.152015281058109"
      ]
     },
     "metadata": {},
     "output_type": "display_data"
    }
   ],
   "source": [
    "capacity"
   ]
  }
 ],
 "metadata": {
  "kernelspec": {
   "display_name": "Julia 1.10.5",
   "language": "julia",
   "name": "julia-1.10"
  },
  "language_info": {
   "file_extension": ".jl",
   "mimetype": "application/julia",
   "name": "julia",
   "version": "1.10.5"
  }
 },
 "nbformat": 4,
 "nbformat_minor": 2
}
