{
 "cells": [
  {
   "cell_type": "code",
   "execution_count": 9,
   "metadata": {},
   "outputs": [],
   "source": [
    "# Import the required packages\n",
    "using JuMP\n",
    "using CSV\n",
    "using DataFrames\n",
    "using PowerModels\n",
    "using Ipopt\n",
    "using Juniper"
   ]
  },
  {
   "cell_type": "code",
   "execution_count": 22,
   "metadata": {},
   "outputs": [
    {
     "name": "stdout",
     "output_type": "stream",
     "text": [
      "WHOA"
     ]
    },
    {
     "data": {
      "text/plain": [
       "(1, 18)"
      ]
     },
     "metadata": {},
     "output_type": "display_data"
    }
   ],
   "source": [
    "idx = findall(isequal(3), load_busses)\n",
    "if !isempty(idx)\n",
    "    print(\"WHOA\")\n",
    "end\n",
    "size(Pd_mod)"
   ]
  },
  {
   "cell_type": "code",
   "execution_count": 25,
   "metadata": {},
   "outputs": [
    {
     "data": {
      "text/plain": [
       "1×18 Matrix{Float64}:\n",
       " 0.0  0.12  0.25  0.93  2.26  0.5  0.12  …  0.0  0.0  0.0  0.0  0.0  0.0  0.0"
      ]
     },
     "metadata": {},
     "output_type": "display_data"
    }
   ],
   "source": [
    "#Read in data\n",
    "baseMVA = 10;\n",
    "\n",
    "bus_data = CSV.read(\"bus_data.csv\", DataFrame) |> Matrix;\n",
    "(num_busses, var) = size(bus_data);\n",
    "load_data = CSV.read(\"load_data.csv\", DataFrame) |> Matrix;\n",
    "(num_loads, var) = size(load_data);\n",
    "branch_data = CSV.read(\"branch_data.csv\", DataFrame) |> Matrix;\n",
    "(num_branches, var) = size(branch_data)\n",
    "G = CSV.read(\"G_mat.csv\", DataFrame) |> Matrix;\n",
    "B = CSV.read(\"B_mat.csv\", DataFrame)|> Matrix;\n",
    "\n",
    "#Expand the Pd data such that non load busses are given power demands of 0\n",
    "Pd = load_data[:,5]*baseMVA\n",
    "load_busses = load_data[:,2];\n",
    "Pd_mod = zeros(1, num_busses);\n",
    "for i = 1:num_busses\n",
    "    idx = findall(isequal(i), load_busses)\n",
    "    if !isempty(idx)\n",
    "        Pd_mod[i] = Pd[idx[1]]\n",
    "    else\n",
    "        Pd_mod[i] = 0;\n",
    "    end\n",
    "end\n",
    "Pd = Pd_mod\n",
    "\n",
    "Qd = load_data[:,4]*baseMVA\n",
    "Qd_mod = zeros(1, num_busses);\n",
    "for i = 1:num_busses\n",
    "    idx = findall(isequal(i), load_busses)\n",
    "    if !isempty(idx)\n",
    "        Qd_mod[i] = Qd[idx[1]]\n",
    "    else\n",
    "        Qd_mod[i] = 0;\n",
    "    end\n",
    "end\n",
    "Qd = Qd_mod\n"
   ]
  },
  {
   "cell_type": "code",
   "execution_count": 27,
   "metadata": {},
   "outputs": [
    {
     "data": {
      "text/plain": [
       "18-element Vector{NonlinearConstraintRef{ScalarShape}}:\n",
       " ((QG[1] - 0.0) - ((V[1] * V[1]) * (39.87614338007717 * sin(theta[1] - theta[1]) - -105.02287856174772 * cos(theta[1] - theta[1])) + (V[1] * V[2]) * (-26.35477935668656 * sin(theta[1] - theta[2]) - 73.62216785487384 * cos(theta[1] - theta[2])) + (V[1] * V[3]) * (0.0 * sin(theta[1] - theta[3]) - 0.0 * cos(theta[1] - theta[3])) + (V[1] * V[4]) * (0.0 * sin(theta[1] - theta[4]) - 0.0 * cos(theta[1] - theta[4])) + (V[1] * V[5]) * (0.0 * sin(theta[1] - theta[5]) - 0.0 * cos(theta[1] - theta[5])) + (V[1] * V[6]) * (0.0 * sin(theta[1] - theta[6]) - 0.0 * cos(theta[1] - theta[6])) + (V[1] * V[7]) * (0.0 * sin(theta[1] - theta[7]) - 0.0 * cos(theta[1] - theta[7])) + (V[1] * V[8]) * (0.0 * sin(theta[1] - theta[8]) - 0.0 * cos(theta[1] - theta[8])) + (V[1] * V[9]) * (0.0 * sin(theta[1] - theta[9]) - 0.0 * cos(theta[1] - theta[9])) + (V[1] * V[10]) * (-12.838655948903739 * sin(theta[1] - theta[10]) - 16.624074094662987 * cos(theta[1] - theta[10])) + (V[1] * V[11]) * (0.0 * sin(theta[1] - theta[11]) - 0.0 * cos(theta[1] - theta[11])) + (V[1] * V[12]) * (0.0 * sin(theta[1] - theta[12]) - 0.0 * cos(theta[1] - theta[12])) + (V[1] * V[13]) * (0.0 * sin(theta[1] - theta[13]) - 0.0 * cos(theta[1] - theta[13])) + (V[1] * V[14]) * (0.0 * sin(theta[1] - theta[14]) - 0.0 * cos(theta[1] - theta[14])) + (V[1] * V[15]) * (0.0 * sin(theta[1] - theta[15]) - 0.0 * cos(theta[1] - theta[15])) + (V[1] * V[16]) * (0.0 * sin(theta[1] - theta[16]) - 0.0 * cos(theta[1] - theta[16])) + (V[1] * V[17]) * (-0.6827080744868643 * sin(theta[1] - theta[17]) - 14.776691112210884 * cos(theta[1] - theta[17])) + (V[1] * V[18]) * (0.0 * sin(theta[1] - theta[18]) - 0.0 * cos(theta[1] - theta[18])))) - 0.0 == 0\n",
       " ((QG[2] - 0.12) - ((V[2] * V[1]) * (-26.35477935668656 * sin(theta[2] - theta[1]) - 73.62216785487384 * cos(theta[2] - theta[1])) + (V[2] * V[2]) * (67.19222402991224 * sin(theta[2] - theta[2]) - -154.71690994053193 * cos(theta[2] - theta[2])) + (V[2] * V[3]) * (-18.93790195775682 * sin(theta[2] - theta[3]) - 52.84336369909848 * cos(theta[2] - theta[3])) + (V[2] * V[4]) * (0.0 * sin(theta[2] - theta[4]) - 0.0 * cos(theta[2] - theta[4])) + (V[2] * V[5]) * (0.0 * sin(theta[2] - theta[5]) - 0.0 * cos(theta[2] - theta[5])) + (V[2] * V[6]) * (0.0 * sin(theta[2] - theta[6]) - 0.0 * cos(theta[2] - theta[6])) + (V[2] * V[7]) * (0.0 * sin(theta[2] - theta[7]) - 0.0 * cos(theta[2] - theta[7])) + (V[2] * V[8]) * (0.0 * sin(theta[2] - theta[8]) - 0.0 * cos(theta[2] - theta[8])) + (V[2] * V[9]) * (-21.899542715468847 * sin(theta[2] - theta[9]) - 28.3564418865596 * cos(theta[2] - theta[9])) + (V[2] * V[10]) * (0.0 * sin(theta[2] - theta[10]) - 0.0 * cos(theta[2] - theta[10])) + (V[2] * V[11]) * (0.0 * sin(theta[2] - theta[11]) - 0.0 * cos(theta[2] - theta[11])) + (V[2] * V[12]) * (0.0 * sin(theta[2] - theta[12]) - 0.0 * cos(theta[2] - theta[12])) + (V[2] * V[13]) * (0.0 * sin(theta[2] - theta[13]) - 0.0 * cos(theta[2] - theta[13])) + (V[2] * V[14]) * (0.0 * sin(theta[2] - theta[14]) - 0.0 * cos(theta[2] - theta[14])) + (V[2] * V[15]) * (0.0 * sin(theta[2] - theta[15]) - 0.0 * cos(theta[2] - theta[15])) + (V[2] * V[16]) * (0.0 * sin(theta[2] - theta[16]) - 0.0 * cos(theta[2] - theta[16])) + (V[2] * V[17]) * (0.0 * sin(theta[2] - theta[17]) - 0.0 * cos(theta[2] - theta[17])) + (V[2] * V[18]) * (0.0 * sin(theta[2] - theta[18]) - 0.0 * cos(theta[2] - theta[18])))) - 0.0 == 0\n",
       " ((QG[3] - 0.25) - ((V[3] * V[1]) * (0.0 * sin(theta[3] - theta[1]) - 0.0 * cos(theta[3] - theta[1])) + (V[3] * V[2]) * (-18.93790195775682 * sin(theta[3] - theta[2]) - 52.84336369909848 * cos(theta[3] - theta[2])) + (V[3] * V[3]) * (54.937810818747046 * sin(theta[3] - theta[3]) - -153.26408447565979 * cos(theta[3] - theta[3])) + (V[3] * V[4]) * (-35.999908860990224 * sin(theta[3] - theta[4]) - 100.48075827656132 * cos(theta[3] - theta[4])) + (V[3] * V[5]) * (0.0 * sin(theta[3] - theta[5]) - 0.0 * cos(theta[3] - theta[5])) + (V[3] * V[6]) * (0.0 * sin(theta[3] - theta[6]) - 0.0 * cos(theta[3] - theta[6])) + (V[3] * V[7]) * (0.0 * sin(theta[3] - theta[7]) - 0.0 * cos(theta[3] - theta[7])) + (V[3] * V[8]) * (0.0 * sin(theta[3] - theta[8]) - 0.0 * cos(theta[3] - theta[8])) + (V[3] * V[9]) * (0.0 * sin(theta[3] - theta[9]) - 0.0 * cos(theta[3] - theta[9])) + (V[3] * V[10]) * (0.0 * sin(theta[3] - theta[10]) - 0.0 * cos(theta[3] - theta[10])) + (V[3] * V[11]) * (0.0 * sin(theta[3] - theta[11]) - 0.0 * cos(theta[3] - theta[11])) + (V[3] * V[12]) * (0.0 * sin(theta[3] - theta[12]) - 0.0 * cos(theta[3] - theta[12])) + (V[3] * V[13]) * (0.0 * sin(theta[3] - theta[13]) - 0.0 * cos(theta[3] - theta[13])) + (V[3] * V[14]) * (0.0 * sin(theta[3] - theta[14]) - 0.0 * cos(theta[3] - theta[14])) + (V[3] * V[15]) * (0.0 * sin(theta[3] - theta[15]) - 0.0 * cos(theta[3] - theta[15])) + (V[3] * V[16]) * (0.0 * sin(theta[3] - theta[16]) - 0.0 * cos(theta[3] - theta[16])) + (V[3] * V[17]) * (0.0 * sin(theta[3] - theta[17]) - 0.0 * cos(theta[3] - theta[17])) + (V[3] * V[18]) * (0.0 * sin(theta[3] - theta[18]) - 0.0 * cos(theta[3] - theta[18])))) - 0.0 == 0\n",
       " ((QG[4] - 0.9299999999999999) - ((V[4] * V[1]) * (0.0 * sin(theta[4] - theta[1]) - 0.0 * cos(theta[4] - theta[1])) + (V[4] * V[2]) * (0.0 * sin(theta[4] - theta[2]) - 0.0 * cos(theta[4] - theta[2])) + (V[4] * V[3]) * (-35.999908860990224 * sin(theta[4] - theta[3]) - 100.48075827656132 * cos(theta[4] - theta[3])) + (V[4] * V[4]) * (48.686059718579685 * sin(theta[4] - theta[4]) - -135.84565235433902 * cos(theta[4] - theta[4])) + (V[4] * V[5]) * (-12.68615085758946 * sin(theta[4] - theta[5]) - 35.42494357777771 * cos(theta[4] - theta[5])) + (V[4] * V[6]) * (0.0 * sin(theta[4] - theta[6]) - 0.0 * cos(theta[4] - theta[6])) + (V[4] * V[7]) * (0.0 * sin(theta[4] - theta[7]) - 0.0 * cos(theta[4] - theta[7])) + (V[4] * V[8]) * (0.0 * sin(theta[4] - theta[8]) - 0.0 * cos(theta[4] - theta[8])) + (V[4] * V[9]) * (0.0 * sin(theta[4] - theta[9]) - 0.0 * cos(theta[4] - theta[9])) + (V[4] * V[10]) * (0.0 * sin(theta[4] - theta[10]) - 0.0 * cos(theta[4] - theta[10])) + (V[4] * V[11]) * (0.0 * sin(theta[4] - theta[11]) - 0.0 * cos(theta[4] - theta[11])) + (V[4] * V[12]) * (0.0 * sin(theta[4] - theta[12]) - 0.0 * cos(theta[4] - theta[12])) + (V[4] * V[13]) * (0.0 * sin(theta[4] - theta[13]) - 0.0 * cos(theta[4] - theta[13])) + (V[4] * V[14]) * (0.0 * sin(theta[4] - theta[14]) - 0.0 * cos(theta[4] - theta[14])) + (V[4] * V[15]) * (0.0 * sin(theta[4] - theta[15]) - 0.0 * cos(theta[4] - theta[15])) + (V[4] * V[16]) * (0.0 * sin(theta[4] - theta[16]) - 0.0 * cos(theta[4] - theta[16])) + (V[4] * V[17]) * (0.0 * sin(theta[4] - theta[17]) - 0.0 * cos(theta[4] - theta[17])) + (V[4] * V[18]) * (0.0 * sin(theta[4] - theta[18]) - 0.0 * cos(theta[4] - theta[18])))) - 0.0 == 0\n",
       " ((QG[5] - 2.26) - ((V[5] * V[1]) * (0.0 * sin(theta[5] - theta[1]) - 0.0 * cos(theta[5] - theta[1])) + (V[5] * V[2]) * (0.0 * sin(theta[5] - theta[2]) - 0.0 * cos(theta[5] - theta[2])) + (V[5] * V[3]) * (0.0 * sin(theta[5] - theta[3]) - 0.0 * cos(theta[5] - theta[3])) + (V[5] * V[4]) * (-12.68615085758946 * sin(theta[5] - theta[4]) - 35.42494357777771 * cos(theta[5] - theta[4])) + (V[5] * V[5]) * (51.1978499284784 * sin(theta[5] - theta[5]) - -142.81655621137935 * cos(theta[5] - theta[5])) + (V[5] * V[6]) * (-38.51169907088894 * sin(theta[5] - theta[6]) - 107.57166113360165 * cos(theta[5] - theta[6])) + (V[5] * V[7]) * (0.0 * sin(theta[5] - theta[7]) - 0.0 * cos(theta[5] - theta[7])) + (V[5] * V[8]) * (0.0 * sin(theta[5] - theta[8]) - 0.0 * cos(theta[5] - theta[8])) + (V[5] * V[9]) * (0.0 * sin(theta[5] - theta[9]) - 0.0 * cos(theta[5] - theta[9])) + (V[5] * V[10]) * (0.0 * sin(theta[5] - theta[10]) - 0.0 * cos(theta[5] - theta[10])) + (V[5] * V[11]) * (0.0 * sin(theta[5] - theta[11]) - 0.0 * cos(theta[5] - theta[11])) + (V[5] * V[12]) * (0.0 * sin(theta[5] - theta[12]) - 0.0 * cos(theta[5] - theta[12])) + (V[5] * V[13]) * (0.0 * sin(theta[5] - theta[13]) - 0.0 * cos(theta[5] - theta[13])) + (V[5] * V[14]) * (0.0 * sin(theta[5] - theta[14]) - 0.0 * cos(theta[5] - theta[14])) + (V[5] * V[15]) * (0.0 * sin(theta[5] - theta[15]) - 0.0 * cos(theta[5] - theta[15])) + (V[5] * V[16]) * (0.0 * sin(theta[5] - theta[16]) - 0.0 * cos(theta[5] - theta[16])) + (V[5] * V[17]) * (0.0 * sin(theta[5] - theta[17]) - 0.0 * cos(theta[5] - theta[17])) + (V[5] * V[18]) * (0.0 * sin(theta[5] - theta[18]) - 0.0 * cos(theta[5] - theta[18])))) - 0.0 == 0\n",
       " ((QG[6] - 0.5) - ((V[6] * V[1]) * (0.0 * sin(theta[6] - theta[1]) - 0.0 * cos(theta[6] - theta[1])) + (V[6] * V[2]) * (0.0 * sin(theta[6] - theta[2]) - 0.0 * cos(theta[6] - theta[2])) + (V[6] * V[3]) * (0.0 * sin(theta[6] - theta[3]) - 0.0 * cos(theta[6] - theta[3])) + (V[6] * V[4]) * (0.0 * sin(theta[6] - theta[4]) - 0.0 * cos(theta[6] - theta[4])) + (V[6] * V[5]) * (-38.51169907088894 * sin(theta[6] - theta[5]) - 107.57166113360165 * cos(theta[6] - theta[5])) + (V[6] * V[6]) * (61.59027356638057 * sin(theta[6] - theta[6]) - -136.01731097688204 * cos(theta[6] - theta[6])) + (V[6] * V[7]) * (-23.07857449549163 * sin(theta[6] - theta[7]) - 28.44568484328038 * cos(theta[6] - theta[7])) + (V[6] * V[8]) * (0.0 * sin(theta[6] - theta[8]) - 0.0 * cos(theta[6] - theta[8])) + (V[6] * V[9]) * (0.0 * sin(theta[6] - theta[9]) - 0.0 * cos(theta[6] - theta[9])) + (V[6] * V[10]) * (0.0 * sin(theta[6] - theta[10]) - 0.0 * cos(theta[6] - theta[10])) + (V[6] * V[11]) * (0.0 * sin(theta[6] - theta[11]) - 0.0 * cos(theta[6] - theta[11])) + (V[6] * V[12]) * (0.0 * sin(theta[6] - theta[12]) - 0.0 * cos(theta[6] - theta[12])) + (V[6] * V[13]) * (0.0 * sin(theta[6] - theta[13]) - 0.0 * cos(theta[6] - theta[13])) + (V[6] * V[14]) * (0.0 * sin(theta[6] - theta[14]) - 0.0 * cos(theta[6] - theta[14])) + (V[6] * V[15]) * (0.0 * sin(theta[6] - theta[15]) - 0.0 * cos(theta[6] - theta[15])) + (V[6] * V[16]) * (0.0 * sin(theta[6] - theta[16]) - 0.0 * cos(theta[6] - theta[16])) + (V[6] * V[17]) * (0.0 * sin(theta[6] - theta[17]) - 0.0 * cos(theta[6] - theta[17])) + (V[6] * V[18]) * (0.0 * sin(theta[6] - theta[18]) - 0.0 * cos(theta[6] - theta[18])))) - 0.0 == 0\n",
       " ((QG[7] - 0.12) - ((V[7] * V[1]) * (0.0 * sin(theta[7] - theta[1]) - 0.0 * cos(theta[7] - theta[1])) + (V[7] * V[2]) * (0.0 * sin(theta[7] - theta[2]) - 0.0 * cos(theta[7] - theta[2])) + (V[7] * V[3]) * (0.0 * sin(theta[7] - theta[3]) - 0.0 * cos(theta[7] - theta[3])) + (V[7] * V[4]) * (0.0 * sin(theta[7] - theta[4]) - 0.0 * cos(theta[7] - theta[4])) + (V[7] * V[5]) * (0.0 * sin(theta[7] - theta[5]) - 0.0 * cos(theta[7] - theta[5])) + (V[7] * V[6]) * (-23.07857449549163 * sin(theta[7] - theta[6]) - 28.44568484328038 * cos(theta[7] - theta[6])) + (V[7] * V[7]) * (38.80153576342522 * sin(theta[7] - theta[7]) - -40.17978886195391 * cos(theta[7] - theta[7])) + (V[7] * V[8]) * (-15.722961267933592 * sin(theta[7] - theta[8]) - 11.794152518673528 * cos(theta[7] - theta[8])) + (V[7] * V[9]) * (0.0 * sin(theta[7] - theta[9]) - 0.0 * cos(theta[7] - theta[9])) + (V[7] * V[10]) * (0.0 * sin(theta[7] - theta[10]) - 0.0 * cos(theta[7] - theta[10])) + (V[7] * V[11]) * (0.0 * sin(theta[7] - theta[11]) - 0.0 * cos(theta[7] - theta[11])) + (V[7] * V[12]) * (0.0 * sin(theta[7] - theta[12]) - 0.0 * cos(theta[7] - theta[12])) + (V[7] * V[13]) * (0.0 * sin(theta[7] - theta[13]) - 0.0 * cos(theta[7] - theta[13])) + (V[7] * V[14]) * (0.0 * sin(theta[7] - theta[14]) - 0.0 * cos(theta[7] - theta[14])) + (V[7] * V[15]) * (0.0 * sin(theta[7] - theta[15]) - 0.0 * cos(theta[7] - theta[15])) + (V[7] * V[16]) * (0.0 * sin(theta[7] - theta[16]) - 0.0 * cos(theta[7] - theta[16])) + (V[7] * V[17]) * (0.0 * sin(theta[7] - theta[17]) - 0.0 * cos(theta[7] - theta[17])) + (V[7] * V[18]) * (0.0 * sin(theta[7] - theta[18]) - 0.0 * cos(theta[7] - theta[18])))) - 0.0 == 0\n",
       " ((QG[8] - 0.62) - ((V[8] * V[1]) * (0.0 * sin(theta[8] - theta[1]) - 0.0 * cos(theta[8] - theta[1])) + (V[8] * V[2]) * (0.0 * sin(theta[8] - theta[2]) - 0.0 * cos(theta[8] - theta[2])) + (V[8] * V[3]) * (0.0 * sin(theta[8] - theta[3]) - 0.0 * cos(theta[8] - theta[3])) + (V[8] * V[4]) * (0.0 * sin(theta[8] - theta[4]) - 0.0 * cos(theta[8] - theta[4])) + (V[8] * V[5]) * (0.0 * sin(theta[8] - theta[5]) - 0.0 * cos(theta[8] - theta[5])) + (V[8] * V[6]) * (0.0 * sin(theta[8] - theta[6]) - 0.0 * cos(theta[8] - theta[6])) + (V[8] * V[7]) * (-15.722961267933592 * sin(theta[8] - theta[7]) - 11.794152518673528 * cos(theta[8] - theta[7])) + (V[8] * V[8]) * (15.722961267933592 * sin(theta[8] - theta[8]) - -11.794127018673528 * cos(theta[8] - theta[8])) + (V[8] * V[9]) * (0.0 * sin(theta[8] - theta[9]) - 0.0 * cos(theta[8] - theta[9])) + (V[8] * V[10]) * (0.0 * sin(theta[8] - theta[10]) - 0.0 * cos(theta[8] - theta[10])) + (V[8] * V[11]) * (0.0 * sin(theta[8] - theta[11]) - 0.0 * cos(theta[8] - theta[11])) + (V[8] * V[12]) * (0.0 * sin(theta[8] - theta[12]) - 0.0 * cos(theta[8] - theta[12])) + (V[8] * V[13]) * (0.0 * sin(theta[8] - theta[13]) - 0.0 * cos(theta[8] - theta[13])) + (V[8] * V[14]) * (0.0 * sin(theta[8] - theta[14]) - 0.0 * cos(theta[8] - theta[14])) + (V[8] * V[15]) * (0.0 * sin(theta[8] - theta[15]) - 0.0 * cos(theta[8] - theta[15])) + (V[8] * V[16]) * (0.0 * sin(theta[8] - theta[16]) - 0.0 * cos(theta[8] - theta[16])) + (V[8] * V[17]) * (0.0 * sin(theta[8] - theta[17]) - 0.0 * cos(theta[8] - theta[17])) + (V[8] * V[18]) * (0.0 * sin(theta[8] - theta[18]) - 0.0 * cos(theta[8] - theta[18])))) - 0.0 == 0\n",
       " ((QG[9] - 0.31) - ((V[9] * V[1]) * (0.0 * sin(theta[9] - theta[1]) - 0.0 * cos(theta[9] - theta[1])) + (V[9] * V[2]) * (-21.899542715468847 * sin(theta[9] - theta[2]) - 28.3564418865596 * cos(theta[9] - theta[2])) + (V[9] * V[3]) * (0.0 * sin(theta[9] - theta[3]) - 0.0 * cos(theta[9] - theta[3])) + (V[9] * V[4]) * (0.0 * sin(theta[9] - theta[4]) - 0.0 * cos(theta[9] - theta[4])) + (V[9] * V[5]) * (0.0 * sin(theta[9] - theta[5]) - 0.0 * cos(theta[9] - theta[5])) + (V[9] * V[6]) * (0.0 * sin(theta[9] - theta[6]) - 0.0 * cos(theta[9] - theta[6])) + (V[9] * V[7]) * (0.0 * sin(theta[9] - theta[7]) - 0.0 * cos(theta[9] - theta[7])) + (V[9] * V[8]) * (0.0 * sin(theta[9] - theta[8]) - 0.0 * cos(theta[9] - theta[8])) + (V[9] * V[9]) * (21.899542715468847 * sin(theta[9] - theta[9]) - -28.356420386559602 * cos(theta[9] - theta[9])) + (V[9] * V[10]) * (0.0 * sin(theta[9] - theta[10]) - 0.0 * cos(theta[9] - theta[10])) + (V[9] * V[11]) * (0.0 * sin(theta[9] - theta[11]) - 0.0 * cos(theta[9] - theta[11])) + (V[9] * V[12]) * (0.0 * sin(theta[9] - theta[12]) - 0.0 * cos(theta[9] - theta[12])) + (V[9] * V[13]) * (0.0 * sin(theta[9] - theta[13]) - 0.0 * cos(theta[9] - theta[13])) + (V[9] * V[14]) * (0.0 * sin(theta[9] - theta[14]) - 0.0 * cos(theta[9] - theta[14])) + (V[9] * V[15]) * (0.0 * sin(theta[9] - theta[15]) - 0.0 * cos(theta[9] - theta[15])) + (V[9] * V[16]) * (0.0 * sin(theta[9] - theta[16]) - 0.0 * cos(theta[9] - theta[16])) + (V[9] * V[17]) * (0.0 * sin(theta[9] - theta[17]) - 0.0 * cos(theta[9] - theta[17])) + (V[9] * V[18]) * (0.0 * sin(theta[9] - theta[18]) - 0.0 * cos(theta[9] - theta[18])))) - 0.0 == 0\n",
       " ((QG[10] - 0.0) - ((V[10] * V[1]) * (-12.838655948903739 * sin(theta[10] - theta[1]) - 16.624074094662987 * cos(theta[10] - theta[1])) + (V[10] * V[2]) * (0.0 * sin(theta[10] - theta[2]) - 0.0 * cos(theta[10] - theta[2])) + (V[10] * V[3]) * (0.0 * sin(theta[10] - theta[3]) - 0.0 * cos(theta[10] - theta[3])) + (V[10] * V[4]) * (0.0 * sin(theta[10] - theta[4]) - 0.0 * cos(theta[10] - theta[4])) + (V[10] * V[5]) * (0.0 * sin(theta[10] - theta[5]) - 0.0 * cos(theta[10] - theta[5])) + (V[10] * V[6]) * (0.0 * sin(theta[10] - theta[6]) - 0.0 * cos(theta[10] - theta[6])) + (V[10] * V[7]) * (0.0 * sin(theta[10] - theta[7]) - 0.0 * cos(theta[10] - theta[7])) + (V[10] * V[8]) * (0.0 * sin(theta[10] - theta[8]) - 0.0 * cos(theta[10] - theta[8])) + (V[10] * V[9]) * (0.0 * sin(theta[10] - theta[9]) - 0.0 * cos(theta[10] - theta[9])) + (V[10] * V[10]) * (29.653629114945996 * sin(theta[10] - theta[10]) - -38.33569127229736 * cos(theta[10] - theta[10])) + (V[10] * V[11]) * (-16.814973166042257 * sin(theta[10] - theta[11]) - 21.771682177634375 * cos(theta[10] - theta[11])) + (V[10] * V[12]) * (0.0 * sin(theta[10] - theta[12]) - 0.0 * cos(theta[10] - theta[12])) + (V[10] * V[13]) * (0.0 * sin(theta[10] - theta[13]) - 0.0 * cos(theta[10] - theta[13])) + (V[10] * V[14]) * (0.0 * sin(theta[10] - theta[14]) - 0.0 * cos(theta[10] - theta[14])) + (V[10] * V[15]) * (0.0 * sin(theta[10] - theta[15]) - 0.0 * cos(theta[10] - theta[15])) + (V[10] * V[16]) * (0.0 * sin(theta[10] - theta[16]) - 0.0 * cos(theta[10] - theta[16])) + (V[10] * V[17]) * (0.0 * sin(theta[10] - theta[17]) - 0.0 * cos(theta[10] - theta[17])) + (V[10] * V[18]) * (0.0 * sin(theta[10] - theta[18]) - 0.0 * cos(theta[10] - theta[18])))) - 0.0 == 0\n",
       " ((QG[11] - 0.0) - ((V[11] * V[1]) * (0.0 * sin(theta[11] - theta[1]) - 0.0 * cos(theta[11] - theta[1])) + (V[11] * V[2]) * (0.0 * sin(theta[11] - theta[2]) - 0.0 * cos(theta[11] - theta[2])) + (V[11] * V[3]) * (0.0 * sin(theta[11] - theta[3]) - 0.0 * cos(theta[11] - theta[3])) + (V[11] * V[4]) * (0.0 * sin(theta[11] - theta[4]) - 0.0 * cos(theta[11] - theta[4])) + (V[11] * V[5]) * (0.0 * sin(theta[11] - theta[5]) - 0.0 * cos(theta[11] - theta[5])) + (V[11] * V[6]) * (0.0 * sin(theta[11] - theta[6]) - 0.0 * cos(theta[11] - theta[6])) + (V[11] * V[7]) * (0.0 * sin(theta[11] - theta[7]) - 0.0 * cos(theta[11] - theta[7])) + (V[11] * V[8]) * (0.0 * sin(theta[11] - theta[8]) - 0.0 * cos(theta[11] - theta[8])) + (V[11] * V[9]) * (0.0 * sin(theta[11] - theta[9]) - 0.0 * cos(theta[11] - theta[9])) + (V[11] * V[10]) * (-16.814973166042257 * sin(theta[11] - theta[10]) - 21.771682177634375 * cos(theta[11] - theta[10])) + (V[11] * V[11]) * (33.970522457176656 * sin(theta[11] - theta[11]) - -43.86357274868121 * cos(theta[11] - theta[11])) + (V[11] * V[12]) * (-7.7803636548127875 * sin(theta[11] - theta[12]) - 10.072517427779703 * cos(theta[11] - theta[12])) + (V[11] * V[13]) * (-9.375185636321609 * sin(theta[11] - theta[13]) - 12.139512643267128 * cos(theta[11] - theta[13])) + (V[11] * V[14]) * (0.0 * sin(theta[11] - theta[14]) - 0.0 * cos(theta[11] - theta[14])) + (V[11] * V[15]) * (0.0 * sin(theta[11] - theta[15]) - 0.0 * cos(theta[11] - theta[15])) + (V[11] * V[16]) * (0.0 * sin(theta[11] - theta[16]) - 0.0 * cos(theta[11] - theta[16])) + (V[11] * V[17]) * (0.0 * sin(theta[11] - theta[17]) - 0.0 * cos(theta[11] - theta[17])) + (V[11] * V[18]) * (0.0 * sin(theta[11] - theta[18]) - 0.0 * cos(theta[11] - theta[18])))) - 0.0 == 0\n",
       " ((QG[12] - 0.0) - ((V[12] * V[1]) * (0.0 * sin(theta[12] - theta[1]) - 0.0 * cos(theta[12] - theta[1])) + (V[12] * V[2]) * (0.0 * sin(theta[12] - theta[2]) - 0.0 * cos(theta[12] - theta[2])) + (V[12] * V[3]) * (0.0 * sin(theta[12] - theta[3]) - 0.0 * cos(theta[12] - theta[3])) + (V[12] * V[4]) * (0.0 * sin(theta[12] - theta[4]) - 0.0 * cos(theta[12] - theta[4])) + (V[12] * V[5]) * (0.0 * sin(theta[12] - theta[5]) - 0.0 * cos(theta[12] - theta[5])) + (V[12] * V[6]) * (0.0 * sin(theta[12] - theta[6]) - 0.0 * cos(theta[12] - theta[6])) + (V[12] * V[7]) * (0.0 * sin(theta[12] - theta[7]) - 0.0 * cos(theta[12] - theta[7])) + (V[12] * V[8]) * (0.0 * sin(theta[12] - theta[8]) - 0.0 * cos(theta[12] - theta[8])) + (V[12] * V[9]) * (0.0 * sin(theta[12] - theta[9]) - 0.0 * cos(theta[12] - theta[9])) + (V[12] * V[10]) * (0.0 * sin(theta[12] - theta[10]) - 0.0 * cos(theta[12] - theta[10])) + (V[12] * V[11]) * (-7.7803636548127875 * sin(theta[12] - theta[11]) - 10.072517427779703 * cos(theta[12] - theta[11])) + (V[12] * V[12]) * (7.7803636548127875 * sin(theta[12] - theta[12]) - -10.072456427779702 * cos(theta[12] - theta[12])) + (V[12] * V[13]) * (0.0 * sin(theta[12] - theta[13]) - 0.0 * cos(theta[12] - theta[13])) + (V[12] * V[14]) * (0.0 * sin(theta[12] - theta[14]) - 0.0 * cos(theta[12] - theta[14])) + (V[12] * V[15]) * (0.0 * sin(theta[12] - theta[15]) - 0.0 * cos(theta[12] - theta[15])) + (V[12] * V[16]) * (0.0 * sin(theta[12] - theta[16]) - 0.0 * cos(theta[12] - theta[16])) + (V[12] * V[17]) * (0.0 * sin(theta[12] - theta[17]) - 0.0 * cos(theta[12] - theta[17])) + (V[12] * V[18]) * (0.0 * sin(theta[12] - theta[18]) - 0.0 * cos(theta[12] - theta[18])))) - 0.0 == 0\n",
       " ((QG[13] - 0.0) - ((V[13] * V[1]) * (0.0 * sin(theta[13] - theta[1]) - 0.0 * cos(theta[13] - theta[1])) + (V[13] * V[2]) * (0.0 * sin(theta[13] - theta[2]) - 0.0 * cos(theta[13] - theta[2])) + (V[13] * V[3]) * (0.0 * sin(theta[13] - theta[3]) - 0.0 * cos(theta[13] - theta[3])) + (V[13] * V[4]) * (0.0 * sin(theta[13] - theta[4]) - 0.0 * cos(theta[13] - theta[4])) + (V[13] * V[5]) * (0.0 * sin(theta[13] - theta[5]) - 0.0 * cos(theta[13] - theta[5])) + (V[13] * V[6]) * (0.0 * sin(theta[13] - theta[6]) - 0.0 * cos(theta[13] - theta[6])) + (V[13] * V[7]) * (0.0 * sin(theta[13] - theta[7]) - 0.0 * cos(theta[13] - theta[7])) + (V[13] * V[8]) * (0.0 * sin(theta[13] - theta[8]) - 0.0 * cos(theta[13] - theta[8])) + (V[13] * V[9]) * (0.0 * sin(theta[13] - theta[9]) - 0.0 * cos(theta[13] - theta[9])) + (V[13] * V[10]) * (0.0 * sin(theta[13] - theta[10]) - 0.0 * cos(theta[13] - theta[10])) + (V[13] * V[11]) * (-9.375185636321609 * sin(theta[13] - theta[11]) - 12.139512643267128 * cos(theta[13] - theta[11])) + (V[13] * V[12]) * (0.0 * sin(theta[13] - theta[12]) - 0.0 * cos(theta[13] - theta[12])) + (V[13] * V[13]) * (32.86661994815484 * sin(theta[13] - theta[13]) - -41.89149083195619 * cos(theta[13] - theta[13])) + (V[13] * V[14]) * (-12.838655948903739 * sin(theta[13] - theta[14]) - 16.624074094662987 * cos(theta[13] - theta[14])) + (V[13] * V[15]) * (-10.652778362929498 * sin(theta[13] - theta[15]) - 13.128041594026076 * cos(theta[13] - theta[15])) + (V[13] * V[16]) * (0.0 * sin(theta[13] - theta[16]) - 0.0 * cos(theta[13] - theta[16])) + (V[13] * V[17]) * (0.0 * sin(theta[13] - theta[17]) - 0.0 * cos(theta[13] - theta[17])) + (V[13] * V[18]) * (0.0 * sin(theta[13] - theta[18]) - 0.0 * cos(theta[13] - theta[18])))) - 0.0 == 0\n",
       " ((QG[14] - 0.0) - ((V[14] * V[1]) * (0.0 * sin(theta[14] - theta[1]) - 0.0 * cos(theta[14] - theta[1])) + (V[14] * V[2]) * (0.0 * sin(theta[14] - theta[2]) - 0.0 * cos(theta[14] - theta[2])) + (V[14] * V[3]) * (0.0 * sin(theta[14] - theta[3]) - 0.0 * cos(theta[14] - theta[3])) + (V[14] * V[4]) * (0.0 * sin(theta[14] - theta[4]) - 0.0 * cos(theta[14] - theta[4])) + (V[14] * V[5]) * (0.0 * sin(theta[14] - theta[5]) - 0.0 * cos(theta[14] - theta[5])) + (V[14] * V[6]) * (0.0 * sin(theta[14] - theta[6]) - 0.0 * cos(theta[14] - theta[6])) + (V[14] * V[7]) * (0.0 * sin(theta[14] - theta[7]) - 0.0 * cos(theta[14] - theta[7])) + (V[14] * V[8]) * (0.0 * sin(theta[14] - theta[8]) - 0.0 * cos(theta[14] - theta[8])) + (V[14] * V[9]) * (0.0 * sin(theta[14] - theta[9]) - 0.0 * cos(theta[14] - theta[9])) + (V[14] * V[10]) * (0.0 * sin(theta[14] - theta[10]) - 0.0 * cos(theta[14] - theta[10])) + (V[14] * V[11]) * (0.0 * sin(theta[14] - theta[11]) - 0.0 * cos(theta[14] - theta[11])) + (V[14] * V[12]) * (0.0 * sin(theta[14] - theta[12]) - 0.0 * cos(theta[14] - theta[12])) + (V[14] * V[13]) * (-12.838655948903739 * sin(theta[14] - theta[13]) - 16.624074094662987 * cos(theta[14] - theta[13])) + (V[14] * V[14]) * (12.838655948903739 * sin(theta[14] - theta[14]) - -16.47403709466299 * cos(theta[14] - theta[14])) + (V[14] * V[15]) * (0.0 * sin(theta[14] - theta[15]) - 0.0 * cos(theta[14] - theta[15])) + (V[14] * V[16]) * (0.0 * sin(theta[14] - theta[16]) - 0.0 * cos(theta[14] - theta[16])) + (V[14] * V[17]) * (0.0 * sin(theta[14] - theta[17]) - 0.0 * cos(theta[14] - theta[17])) + (V[14] * V[18]) * (0.0 * sin(theta[14] - theta[18]) - 0.0 * cos(theta[14] - theta[18])))) - 0.0 == 0\n",
       " ((QG[15] - 0.0) - ((V[15] * V[1]) * (0.0 * sin(theta[15] - theta[1]) - 0.0 * cos(theta[15] - theta[1])) + (V[15] * V[2]) * (0.0 * sin(theta[15] - theta[2]) - 0.0 * cos(theta[15] - theta[2])) + (V[15] * V[3]) * (0.0 * sin(theta[15] - theta[3]) - 0.0 * cos(theta[15] - theta[3])) + (V[15] * V[4]) * (0.0 * sin(theta[15] - theta[4]) - 0.0 * cos(theta[15] - theta[4])) + (V[15] * V[5]) * (0.0 * sin(theta[15] - theta[5]) - 0.0 * cos(theta[15] - theta[5])) + (V[15] * V[6]) * (0.0 * sin(theta[15] - theta[6]) - 0.0 * cos(theta[15] - theta[6])) + (V[15] * V[7]) * (0.0 * sin(theta[15] - theta[7]) - 0.0 * cos(theta[15] - theta[7])) + (V[15] * V[8]) * (0.0 * sin(theta[15] - theta[8]) - 0.0 * cos(theta[15] - theta[8])) + (V[15] * V[9]) * (0.0 * sin(theta[15] - theta[9]) - 0.0 * cos(theta[15] - theta[9])) + (V[15] * V[10]) * (0.0 * sin(theta[15] - theta[10]) - 0.0 * cos(theta[15] - theta[10])) + (V[15] * V[11]) * (0.0 * sin(theta[15] - theta[11]) - 0.0 * cos(theta[15] - theta[11])) + (V[15] * V[12]) * (0.0 * sin(theta[15] - theta[12]) - 0.0 * cos(theta[15] - theta[12])) + (V[15] * V[13]) * (-10.652778362929498 * sin(theta[15] - theta[13]) - 13.128041594026076 * cos(theta[15] - theta[13])) + (V[15] * V[14]) * (0.0 * sin(theta[15] - theta[14]) - 0.0 * cos(theta[15] - theta[14])) + (V[15] * V[15]) * (46.63225441832746 * sin(theta[15] - theta[15]) - -57.360475560820674 * cos(theta[15] - theta[15])) + (V[15] * V[16]) * (-35.97947605539797 * sin(theta[15] - theta[16]) - 44.3225429667946 * cos(theta[15] - theta[16])) + (V[15] * V[17]) * (0.0 * sin(theta[15] - theta[17]) - 0.0 * cos(theta[15] - theta[17])) + (V[15] * V[18]) * (0.0 * sin(theta[15] - theta[18]) - 0.0 * cos(theta[15] - theta[18])))) - 0.0 == 0\n",
       " ((QG[16] - 0.0) - ((V[16] * V[1]) * (0.0 * sin(theta[16] - theta[1]) - 0.0 * cos(theta[16] - theta[1])) + (V[16] * V[2]) * (0.0 * sin(theta[16] - theta[2]) - 0.0 * cos(theta[16] - theta[2])) + (V[16] * V[3]) * (0.0 * sin(theta[16] - theta[3]) - 0.0 * cos(theta[16] - theta[3])) + (V[16] * V[4]) * (0.0 * sin(theta[16] - theta[4]) - 0.0 * cos(theta[16] - theta[4])) + (V[16] * V[5]) * (0.0 * sin(theta[16] - theta[5]) - 0.0 * cos(theta[16] - theta[5])) + (V[16] * V[6]) * (0.0 * sin(theta[16] - theta[6]) - 0.0 * cos(theta[16] - theta[6])) + (V[16] * V[7]) * (0.0 * sin(theta[16] - theta[7]) - 0.0 * cos(theta[16] - theta[7])) + (V[16] * V[8]) * (0.0 * sin(theta[16] - theta[8]) - 0.0 * cos(theta[16] - theta[8])) + (V[16] * V[9]) * (0.0 * sin(theta[16] - theta[9]) - 0.0 * cos(theta[16] - theta[9])) + (V[16] * V[10]) * (0.0 * sin(theta[16] - theta[10]) - 0.0 * cos(theta[16] - theta[10])) + (V[16] * V[11]) * (0.0 * sin(theta[16] - theta[11]) - 0.0 * cos(theta[16] - theta[11])) + (V[16] * V[12]) * (0.0 * sin(theta[16] - theta[12]) - 0.0 * cos(theta[16] - theta[12])) + (V[16] * V[13]) * (0.0 * sin(theta[16] - theta[13]) - 0.0 * cos(theta[16] - theta[13])) + (V[16] * V[14]) * (0.0 * sin(theta[16] - theta[14]) - 0.0 * cos(theta[16] - theta[14])) + (V[16] * V[15]) * (-35.97947605539797 * sin(theta[16] - theta[15]) - 44.3225429667946 * cos(theta[16] - theta[15])) + (V[16] * V[16]) * (35.97947605539797 * sin(theta[16] - theta[16]) - -44.3224839667946 * cos(theta[16] - theta[16])) + (V[16] * V[17]) * (0.0 * sin(theta[16] - theta[17]) - 0.0 * cos(theta[16] - theta[17])) + (V[16] * V[18]) * (0.0 * sin(theta[16] - theta[18]) - 0.0 * cos(theta[16] - theta[18])))) - 0.0 == 0\n",
       " ((QG[17] - 0.0) - ((V[17] * V[1]) * (-0.6827080744868643 * sin(theta[17] - theta[1]) - 14.776691112210884 * cos(theta[17] - theta[1])) + (V[17] * V[2]) * (0.0 * sin(theta[17] - theta[2]) - 0.0 * cos(theta[17] - theta[2])) + (V[17] * V[3]) * (0.0 * sin(theta[17] - theta[3]) - 0.0 * cos(theta[17] - theta[3])) + (V[17] * V[4]) * (0.0 * sin(theta[17] - theta[4]) - 0.0 * cos(theta[17] - theta[4])) + (V[17] * V[5]) * (0.0 * sin(theta[17] - theta[5]) - 0.0 * cos(theta[17] - theta[5])) + (V[17] * V[6]) * (0.0 * sin(theta[17] - theta[6]) - 0.0 * cos(theta[17] - theta[6])) + (V[17] * V[7]) * (0.0 * sin(theta[17] - theta[7]) - 0.0 * cos(theta[17] - theta[7])) + (V[17] * V[8]) * (0.0 * sin(theta[17] - theta[8]) - 0.0 * cos(theta[17] - theta[8])) + (V[17] * V[9]) * (0.0 * sin(theta[17] - theta[9]) - 0.0 * cos(theta[17] - theta[9])) + (V[17] * V[10]) * (0.0 * sin(theta[17] - theta[10]) - 0.0 * cos(theta[17] - theta[10])) + (V[17] * V[11]) * (0.0 * sin(theta[17] - theta[11]) - 0.0 * cos(theta[17] - theta[11])) + (V[17] * V[12]) * (0.0 * sin(theta[17] - theta[12]) - 0.0 * cos(theta[17] - theta[12])) + (V[17] * V[13]) * (0.0 * sin(theta[17] - theta[13]) - 0.0 * cos(theta[17] - theta[13])) + (V[17] * V[14]) * (0.0 * sin(theta[17] - theta[14]) - 0.0 * cos(theta[17] - theta[14])) + (V[17] * V[15]) * (0.0 * sin(theta[17] - theta[15]) - 0.0 * cos(theta[17] - theta[15])) + (V[17] * V[16]) * (0.0 * sin(theta[17] - theta[16]) - 0.0 * cos(theta[17] - theta[16])) + (V[17] * V[17]) * (42.06110524089423 * sin(theta[17] - theta[17]) - -299.3400636170935 * cos(theta[17] - theta[17])) + (V[17] * V[18]) * (-41.37839716640737 * sin(theta[17] - theta[18]) - 284.68337250488264 * cos(theta[17] - theta[18])))) - 0.0 == 0\n",
       " ((QG[18] - 0.0) - ((V[18] * V[1]) * (0.0 * sin(theta[18] - theta[1]) - 0.0 * cos(theta[18] - theta[1])) + (V[18] * V[2]) * (0.0 * sin(theta[18] - theta[2]) - 0.0 * cos(theta[18] - theta[2])) + (V[18] * V[3]) * (0.0 * sin(theta[18] - theta[3]) - 0.0 * cos(theta[18] - theta[3])) + (V[18] * V[4]) * (0.0 * sin(theta[18] - theta[4]) - 0.0 * cos(theta[18] - theta[4])) + (V[18] * V[5]) * (0.0 * sin(theta[18] - theta[5]) - 0.0 * cos(theta[18] - theta[5])) + (V[18] * V[6]) * (0.0 * sin(theta[18] - theta[6]) - 0.0 * cos(theta[18] - theta[6])) + (V[18] * V[7]) * (0.0 * sin(theta[18] - theta[7]) - 0.0 * cos(theta[18] - theta[7])) + (V[18] * V[8]) * (0.0 * sin(theta[18] - theta[8]) - 0.0 * cos(theta[18] - theta[8])) + (V[18] * V[9]) * (0.0 * sin(theta[18] - theta[9]) - 0.0 * cos(theta[18] - theta[9])) + (V[18] * V[10]) * (0.0 * sin(theta[18] - theta[10]) - 0.0 * cos(theta[18] - theta[10])) + (V[18] * V[11]) * (0.0 * sin(theta[18] - theta[11]) - 0.0 * cos(theta[18] - theta[11])) + (V[18] * V[12]) * (0.0 * sin(theta[18] - theta[12]) - 0.0 * cos(theta[18] - theta[12])) + (V[18] * V[13]) * (0.0 * sin(theta[18] - theta[13]) - 0.0 * cos(theta[18] - theta[13])) + (V[18] * V[14]) * (0.0 * sin(theta[18] - theta[14]) - 0.0 * cos(theta[18] - theta[14])) + (V[18] * V[15]) * (0.0 * sin(theta[18] - theta[15]) - 0.0 * cos(theta[18] - theta[15])) + (V[18] * V[16]) * (0.0 * sin(theta[18] - theta[16]) - 0.0 * cos(theta[18] - theta[16])) + (V[18] * V[17]) * (-41.37839716640737 * sin(theta[18] - theta[17]) - 284.68337250488264 * cos(theta[18] - theta[17])) + (V[18] * V[18]) * (41.37839716640737 * sin(theta[18] - theta[18]) - -284.68337250488264 * cos(theta[18] - theta[18])))) - 0.0 == 0"
      ]
     },
     "metadata": {},
     "output_type": "display_data"
    }
   ],
   "source": [
    "optimizer = Juniper.Optimizer\n",
    "nl_solver = optimizer_with_attributes(Ipopt.Optimizer, \"print_level\" => 0)\n",
    "\n",
    "model = Model(optimizer_with_attributes(optimizer, \"nl_solver\"=>nl_solver))\n",
    "\n",
    "@variable(model, V[1:num_busses] >= 0)\n",
    "@variable(model, theta[1:num_busses] >= 0)\n",
    "@variable(model, PG[1:num_busses] >= 0)\n",
    "@variable(model, QG[1:num_busses] >= 0)\n",
    "@variable(model, y[1:num_busses] >= 0)\n",
    "@variable(model, x[1:num_busses], Bin)\n",
    "@variable(model, Ploss[1:num_busses] >= 0)\n",
    "@variable(model, Qloss[1:num_busses] >= 0)\n",
    "\n",
    "M = 10000;\n",
    "\n",
    "@constraint(model, [i in 1:num_busses], y[i] <= M*x[i])\n",
    "@NLconstraint(model, [i in 1:num_busses], PG[i] - Pd[i] + Ploss[i] == sum((V[i]*V[j])*(G[i,j]*cos(theta[i]-theta[j])+B[i,j]*sin(theta[i]-theta[j])) for j in 1:num_busses))\n",
    "@NLconstraint(model, [i in 1:num_busses], QG[i] - Qd[i] == sum((V[i]*V[j])*(G[i,j]*sin(theta[i]-theta[j])-B[i,j]*cos(theta[i]-theta[j])) for j in 1:num_busses))\n"
   ]
  },
  {
   "cell_type": "code",
   "execution_count": null,
   "metadata": {},
   "outputs": [],
   "source": [
    "\n",
    "# Create a new optimization model using Ipopt as the solver\n",
    "model = Model(Ipopt.Optimizer)\n",
    "\n",
    "# Define the variables with bounds\n",
    "@variable(model, x1 >= 0)  # x1 ≥ 0\n",
    "@variable(model, x2 >= 0)  # x2 ≥ 0\n",
    "\n",
    "# Define the objective function\n",
    "@objective(model, Min, (x1 - 1)^2 + (x2 - 2)^2)\n",
    "\n",
    "# Define the constraints\n",
    "@constraint(model, x1^2 + x2^2 <= 1)  # Circle constraint\n",
    "\n",
    "# Solve the optimization problem\n",
    "optimize!(model)\n",
    "\n",
    "# Extract the solution\n",
    "x1_opt = value(x1)\n",
    "x2_opt = value(x2)\n",
    "optimal_value = objective_value(model)\n",
    "\n",
    "# Display the results\n",
    "println(\"Optimal solution:\")\n",
    "println(\"x1 = $x1_opt\")\n",
    "println(\"x2 = $x2_opt\")\n",
    "println(\"Objective value = $optimal_value\")"
   ]
  }
 ],
 "metadata": {
  "kernelspec": {
   "display_name": "Julia 1.10.5",
   "language": "julia",
   "name": "julia-1.10"
  },
  "language_info": {
   "file_extension": ".jl",
   "mimetype": "application/julia",
   "name": "julia",
   "version": "1.10.5"
  }
 },
 "nbformat": 4,
 "nbformat_minor": 2
}
