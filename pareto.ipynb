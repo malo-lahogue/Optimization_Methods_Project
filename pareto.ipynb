{
 "cells": [
  {
   "cell_type": "code",
   "execution_count": 4,
   "metadata": {},
   "outputs": [
    {
     "name": "stderr",
     "output_type": "stream",
     "text": [
      "\u001b[32m\u001b[1m   Resolving\u001b[22m\u001b[39m package versions...\n",
      "\u001b[32m\u001b[1m  No Changes\u001b[22m\u001b[39m to `~/.julia/environments/v1.10/Project.toml`\n",
      "\u001b[32m\u001b[1m  No Changes\u001b[22m\u001b[39m to `~/.julia/environments/v1.10/Manifest.toml`\n",
      "\u001b[32m\u001b[1m   Resolving\u001b[22m\u001b[39m package versions...\n",
      "\u001b[32m\u001b[1m  No Changes\u001b[22m\u001b[39m to `~/.julia/environments/v1.10/Project.toml`\n",
      "\u001b[32m\u001b[1m  No Changes\u001b[22m\u001b[39m to `~/.julia/environments/v1.10/Manifest.toml`\n"
     ]
    },
    {
     "data": {
      "text/plain": [
       "sample_cf (generic function with 1 method)"
      ]
     },
     "execution_count": 4,
     "metadata": {},
     "output_type": "execute_result"
    }
   ],
   "source": [
    "using Pkg\n",
    "Pkg.add(\"StatsBase\")\n",
    "Pkg.add(\"Distributions\")\n",
    "#Pkg.add(\"Ipopt\")\n",
    "#Pkg.add(\"Juniper\")\n",
    "using Ipopt\n",
    "using JuMP\n",
    "using JuMP\n",
    "using CSV\n",
    "using DataFrames\n",
    "using PowerModels\n",
    "using Ipopt\n",
    "using Juniper\n",
    "include(\"run_optimization.jl\")\n",
    "include(\"scenario_generation.jl\")"
   ]
  },
  {
   "cell_type": "code",
   "execution_count": 5,
   "metadata": {},
   "outputs": [
    {
     "data": {
      "text/plain": [
       "4-element Vector{Float64}:\n",
       " 0.5340882120498772\n",
       " 0.9283991901410902\n",
       " 0.8497562525920399\n",
       " 0.496386333173591"
      ]
     },
     "execution_count": 5,
     "metadata": {},
     "output_type": "execute_result"
    }
   ],
   "source": [
    "#generate the scenarios\n",
    "S = 4 # Small right now, but change it later\n",
    "seasons = rand([\"winter\", \"spring\", \"summer\", \"fall\"], S)\n",
    "times = rand(1:24, S)\n",
    "\n",
    "cf = [sample_cf(s, t) for (s, t) in zip(seasons, times)]\n",
    "lf = [sample_load(s, t) for (s, t) in zip(seasons, times)]"
   ]
  },
  {
   "cell_type": "code",
   "execution_count": 9,
   "metadata": {},
   "outputs": [
    {
     "ename": "LoadError",
     "evalue": "MethodError: no method matching grid_search(::Float64)\n\n\u001b[0mClosest candidates are:\n\u001b[0m  grid_search(::Any, \u001b[91m::Any\u001b[39m, \u001b[91m::Any\u001b[39m, \u001b[91m::Any\u001b[39m, \u001b[91m::Any\u001b[39m)\n\u001b[0m\u001b[90m   @\u001b[39m \u001b[35mMain\u001b[39m \u001b[90m\u001b[4mIn[9]:8\u001b[24m\u001b[39m\n",
     "output_type": "error",
     "traceback": [
      "MethodError: no method matching grid_search(::Float64)\n\n\u001b[0mClosest candidates are:\n\u001b[0m  grid_search(::Any, \u001b[91m::Any\u001b[39m, \u001b[91m::Any\u001b[39m, \u001b[91m::Any\u001b[39m, \u001b[91m::Any\u001b[39m)\n\u001b[0m\u001b[90m   @\u001b[39m \u001b[35mMain\u001b[39m \u001b[90m\u001b[4mIn[9]:8\u001b[24m\u001b[39m\n",
      "",
      "Stacktrace:",
      " [1] top-level scope",
      "   @ In[9]:28"
     ]
    }
   ],
   "source": [
    "#run the optimization model\n",
    "data_path = \"DATA/\"\n",
    "baseMVA = 10;\n",
    "\n",
    "# Run the grid search\n",
    "step_size = 0.25  # Define the step size for the grid search\n",
    "\n",
    "function grid_search(step_size, data_path, baseMVA, cf, lf)\n",
    "    results = DataFrame(alpha=Float64[], beta=Float64[], gamma=Float64[], objective_cost=Float64[])\n",
    "\n",
    "    # Iterate over possible values of alpha and beta\n",
    "    for alpha in 0:step_size:1\n",
    "        for beta in 0:step_size:(1 - alpha)\n",
    "            gamma = 1 - alpha - beta\n",
    "            if gamma >= 0  # Ensure the constraint is satisfied\n",
    "                # Calculate the objective cost\n",
    "                cost = run_optimization(data_path, baseMVA, alpha, beta, gamma, cf, lf)\n",
    "                # Append the results to the DataFrame\n",
    "                push!(results, (alpha, beta, gamma, cost))\n",
    "            end\n",
    "        end\n",
    "    end\n",
    "\n",
    "    return results\n",
    "end\n",
    "\n",
    "# Run the grid search\n",
    "results = grid_search(step_size)"
   ]
  },
  {
   "cell_type": "code",
   "execution_count": 7,
   "metadata": {},
   "outputs": [
    {
     "ename": "LoadError",
     "evalue": "UndefVarError: `results` not defined",
     "output_type": "error",
     "traceback": [
      "UndefVarError: `results` not defined",
      "",
      "Stacktrace:",
      " [1] top-level scope",
      "   @ In[7]:2"
     ]
    }
   ],
   "source": [
    "output_file = \"grid_search_results.csv\"\n",
    "CSV.write(output_file, results)"
   ]
  }
 ],
 "metadata": {
  "kernelspec": {
   "display_name": "Julia 1.10.5",
   "language": "julia",
   "name": "julia-1.10"
  },
  "language_info": {
   "file_extension": ".jl",
   "mimetype": "application/julia",
   "name": "julia",
   "version": "1.10.5"
  }
 },
 "nbformat": 4,
 "nbformat_minor": 2
}
