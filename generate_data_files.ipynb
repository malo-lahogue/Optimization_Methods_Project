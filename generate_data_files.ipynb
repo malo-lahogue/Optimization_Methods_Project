{
 "cells": [
  {
   "cell_type": "code",
   "execution_count": 2,
   "id": "d1720e82-e81b-4039-970a-e1dbbca3641a",
   "metadata": {},
   "outputs": [],
   "source": [
    "using JuMP\n",
    "using Gurobi\n",
    "using CSV\n",
    "using DataFrames\n",
    "using PowerModels\n",
    "using Ipopt\n",
    "using SparseArrays\n",
    "\n",
    "const GRB_ENV = Gurobi.Env(output_flag=0);"
   ]
  },
  {
   "cell_type": "code",
   "execution_count": 3,
   "id": "8fc0077e-2fb5-4fa5-a193-543a05c81f31",
   "metadata": {},
   "outputs": [
    {
     "name": "stdout",
     "output_type": "stream",
     "text": [
      "\u001b[35m[warn | PowerModels]: this code only supports angmin values in -90 deg. to 90 deg., tightening the value on branch 4 from -360.0 to -60.0 deg.\u001b[39m\n",
      "\u001b[35m[warn | PowerModels]: this code only supports angmax values in -90 deg. to 90 deg., tightening the value on branch 4 from 360.0 to 60.0 deg.\u001b[39m\n",
      "\u001b[35m[warn | PowerModels]: this code only supports angmin values in -90 deg. to 90 deg., tightening the value on branch 1 from -360.0 to -60.0 deg.\u001b[39m\n",
      "\u001b[35m[warn | PowerModels]: this code only supports angmax values in -90 deg. to 90 deg., tightening the value on branch 1 from 360.0 to 60.0 deg.\u001b[39m\n",
      "\u001b[35m[warn | PowerModels]: this code only supports angmin values in -90 deg. to 90 deg., tightening the value on branch 12 from -360.0 to -60.0 deg.\u001b[39m\n",
      "\u001b[35m[warn | PowerModels]: this code only supports angmax values in -90 deg. to 90 deg., tightening the value on branch 12 from 360.0 to 60.0 deg.\u001b[39m\n",
      "\u001b[35m[warn | PowerModels]: this code only supports angmin values in -90 deg. to 90 deg., tightening the value on branch 2 from -360.0 to -60.0 deg.\u001b[39m\n",
      "\u001b[35m[warn | PowerModels]: this code only supports angmax values in -90 deg. to 90 deg., tightening the value on branch 2 from 360.0 to 60.0 deg.\u001b[39m\n",
      "\u001b[35m[warn | PowerModels]: this code only supports angmin values in -90 deg. to 90 deg., tightening the value on branch 6 from -360.0 to -60.0 deg.\u001b[39m\n",
      "\u001b[35m[warn | PowerModels]: this code only supports angmax values in -90 deg. to 90 deg., tightening the value on branch 6 from 360.0 to 60.0 deg.\u001b[39m\n",
      "\u001b[35m[warn | PowerModels]: this code only supports angmin values in -90 deg. to 90 deg., tightening the value on branch 11 from -360.0 to -60.0 deg.\u001b[39m\n",
      "\u001b[35m[warn | PowerModels]: this code only supports angmax values in -90 deg. to 90 deg., tightening the value on branch 11 from 360.0 to 60.0 deg.\u001b[39m\n",
      "\u001b[35m[warn | PowerModels]: this code only supports angmin values in -90 deg. to 90 deg., tightening the value on branch 13 from -360.0 to -60.0 deg.\u001b[39m\n",
      "\u001b[35m[warn | PowerModels]: this code only supports angmax values in -90 deg. to 90 deg., tightening the value on branch 13 from 360.0 to 60.0 deg.\u001b[39m\n",
      "\u001b[35m[warn | PowerModels]: this code only supports angmin values in -90 deg. to 90 deg., tightening the value on branch 5 from -360.0 to -60.0 deg.\u001b[39m\n",
      "\u001b[35m[warn | PowerModels]: this code only supports angmax values in -90 deg. to 90 deg., tightening the value on branch 5 from 360.0 to 60.0 deg.\u001b[39m\n",
      "\u001b[35m[warn | PowerModels]: this code only supports angmin values in -90 deg. to 90 deg., tightening the value on branch 15 from -360.0 to -60.0 deg.\u001b[39m\n",
      "\u001b[35m[warn | PowerModels]: this code only supports angmax values in -90 deg. to 90 deg., tightening the value on branch 15 from 360.0 to 60.0 deg.\u001b[39m\n",
      "\u001b[35m[warn | PowerModels]: this code only supports angmin values in -90 deg. to 90 deg., tightening the value on branch 16 from -360.0 to -60.0 deg.\u001b[39m\n",
      "\u001b[35m[warn | PowerModels]: this code only supports angmax values in -90 deg. to 90 deg., tightening the value on branch 16 from 360.0 to 60.0 deg.\u001b[39m\n",
      "\u001b[35m[warn | PowerModels]: this code only supports angmin values in -90 deg. to 90 deg., tightening the value on branch 14 from -360.0 to -60.0 deg.\u001b[39m\n",
      "\u001b[35m[warn | PowerModels]: this code only supports angmax values in -90 deg. to 90 deg., tightening the value on branch 14 from 360.0 to 60.0 deg.\u001b[39m\n",
      "\u001b[35m[warn | PowerModels]: this code only supports angmin values in -90 deg. to 90 deg., tightening the value on branch 7 from -360.0 to -60.0 deg.\u001b[39m\n",
      "\u001b[35m[warn | PowerModels]: this code only supports angmax values in -90 deg. to 90 deg., tightening the value on branch 7 from 360.0 to 60.0 deg.\u001b[39m\n",
      "\u001b[35m[warn | PowerModels]: this code only supports angmin values in -90 deg. to 90 deg., tightening the value on branch 8 from -360.0 to -60.0 deg.\u001b[39m\n",
      "\u001b[35m[warn | PowerModels]: this code only supports angmax values in -90 deg. to 90 deg., tightening the value on branch 8 from 360.0 to 60.0 deg.\u001b[39m\n",
      "\u001b[35m[warn | PowerModels]: this code only supports angmin values in -90 deg. to 90 deg., tightening the value on branch 17 from -360.0 to -60.0 deg.\u001b[39m\n",
      "\u001b[35m[warn | PowerModels]: this code only supports angmax values in -90 deg. to 90 deg., tightening the value on branch 17 from 360.0 to 60.0 deg.\u001b[39m\n",
      "\u001b[35m[warn | PowerModels]: this code only supports angmin values in -90 deg. to 90 deg., tightening the value on branch 10 from -360.0 to -60.0 deg.\u001b[39m\n",
      "\u001b[35m[warn | PowerModels]: this code only supports angmax values in -90 deg. to 90 deg., tightening the value on branch 10 from 360.0 to 60.0 deg.\u001b[39m\n",
      "\u001b[35m[warn | PowerModels]: this code only supports angmin values in -90 deg. to 90 deg., tightening the value on branch 9 from -360.0 to -60.0 deg.\u001b[39m\n",
      "\u001b[35m[warn | PowerModels]: this code only supports angmax values in -90 deg. to 90 deg., tightening the value on branch 9 from 360.0 to 60.0 deg.\u001b[39m\n",
      "\u001b[35m[warn | PowerModels]: this code only supports angmin values in -90 deg. to 90 deg., tightening the value on branch 3 from -360.0 to -60.0 deg.\u001b[39m\n",
      "\u001b[35m[warn | PowerModels]: this code only supports angmax values in -90 deg. to 90 deg., tightening the value on branch 3 from 360.0 to 60.0 deg.\u001b[39m\n",
      "\u001b[35m[warn | PowerModels]: the voltage setpoint on generator 1 does not match the value at bus 51\u001b[39m\n",
      "\u001b[32m[info | PowerModels]: removing 1 cost terms from generator 1: [200.0, 0.0]\u001b[39m\n"
     ]
    },
    {
     "data": {
      "text/plain": [
       "Dict{String, Any} with 13 entries:\n",
       "  \"bus\"            => Dict{String, Any}(\"24\"=>Dict{String, Any}(\"zone\"=>1, \"bus…\n",
       "  \"source_type\"    => \"matpower\"\n",
       "  \"name\"           => \"case18\"\n",
       "  \"dcline\"         => Dict{String, Any}()\n",
       "  \"source_version\" => \"2\"\n",
       "  \"gen\"            => Dict{String, Any}(\"1\"=>Dict{String, Any}(\"ncost\"=>2, \"qc1…\n",
       "  \"branch\"         => Dict{String, Any}(\"4\"=>Dict{String, Any}(\"br_r\"=>0.00896,…\n",
       "  \"storage\"        => Dict{String, Any}()\n",
       "  \"switch\"         => Dict{String, Any}()\n",
       "  \"baseMVA\"        => 10\n",
       "  \"per_unit\"       => true\n",
       "  \"shunt\"          => Dict{String, Any}(\"8\"=>Dict{String, Any}(\"source_id\"=>Any…\n",
       "  \"load\"           => Dict{String, Any}(\"4\"=>Dict{String, Any}(\"source_id\"=>Any…"
      ]
     },
     "metadata": {},
     "output_type": "display_data"
    }
   ],
   "source": [
    "#Parse the .m file to extract the data\n",
    "network_data = PowerModels.parse_file(\"case18.m\")\n"
   ]
  },
  {
   "cell_type": "code",
   "execution_count": 3,
   "id": "2addad3b-492d-467b-b450-81e459987e93",
   "metadata": {},
   "outputs": [
    {
     "data": {
      "text/plain": [
       "convert_to_mat (generic function with 1 method)"
      ]
     },
     "metadata": {},
     "output_type": "display_data"
    }
   ],
   "source": [
    "function convert_to_mat(super_keys, super_key_num, network_data)\n",
    "    name_keys = collect(keys(network_data[super_keys[super_key_num]]))\n",
    "    #Collect all parameters used by each entry\n",
    "    info_keys = collect(keys(network_data[super_keys[super_key_num]][name_keys[1]]))\n",
    "    \n",
    "    #reconstruct matrix\n",
    "    matrix = zeros(length(name_keys), length(info_keys))\n",
    "    for i in 1:length(name_keys)\n",
    "        for j in 1:length(info_keys)\n",
    "            #source_id returns a vector? weird, IDK why\n",
    "            if info_keys[j] != \"source_id\"\n",
    "                val = network_data[super_keys[super_key_num]][name_keys[i]][info_keys[j]]\n",
    "            else \n",
    "                val = 0\n",
    "            end\n",
    "            matrix[i,j] = val\n",
    "        end\n",
    "    end\n",
    "    return name_keys, info_keys, matrix\n",
    "end"
   ]
  },
  {
   "cell_type": "code",
   "execution_count": 4,
   "id": "20a31b85-1cc3-43c1-b53c-1acb7657bd39",
   "metadata": {},
   "outputs": [
    {
     "data": {
      "text/plain": [
       "reorder_mat_from_name_key (generic function with 1 method)"
      ]
     },
     "metadata": {},
     "output_type": "display_data"
    }
   ],
   "source": [
    "function reorder_mat_from_name_key(matrix, sort_ref)\n",
    "    sort_ref_num = zeros(1, length(sort_ref))\n",
    "    for i = 1:length(sort_ref)\n",
    "        sort_ref_num[i] = parse(Int, sort_ref[i])\n",
    "    end\n",
    "    indeces = sortperm(sort_ref_num[1,:])\n",
    "    #Reorder the branches based on their names\n",
    "    new_matrix = matrix[indeces, :]\n",
    "    return new_matrix\n",
    "end"
   ]
  },
  {
   "cell_type": "code",
   "execution_count": 66,
   "id": "8b7fce5b-c248-4117-9fc2-1e8397f2e1a7",
   "metadata": {},
   "outputs": [
    {
     "data": {
      "text/plain": [
       "15×6 Matrix{Float64}:\n",
       " 0.0   2.0  1.0  0.012  0.02   1.0\n",
       " 0.0   3.0  1.0  0.025  0.04   2.0\n",
       " 0.0   4.0  1.0  0.093  0.15   3.0\n",
       " 0.0   5.0  1.0  0.226  0.3    4.0\n",
       " 0.0   6.0  1.0  0.05   0.08   5.0\n",
       " 0.0   7.0  1.0  0.012  0.02   6.0\n",
       " 0.0   8.0  1.0  0.062  0.1    7.0\n",
       " 0.0   9.0  1.0  0.031  0.05   8.0\n",
       " 0.0  20.0  1.0  0.062  0.1    9.0\n",
       " 0.0  21.0  1.0  0.019  0.03  10.0\n",
       " 0.0  22.0  1.0  0.012  0.02  11.0\n",
       " 0.0  23.0  1.0  0.05   0.08  12.0\n",
       " 0.0  24.0  1.0  0.031  0.05  13.0\n",
       " 0.0  25.0  1.0  0.062  0.1   14.0\n",
       " 0.0  26.0  1.0  0.012  0.02  15.0"
      ]
     },
     "metadata": {},
     "output_type": "display_data"
    }
   ],
   "source": [
    "#Example: network_data[\"branch\"][\"1\"][\"br_r\"] this reads the branch resistance of the first branch\n",
    "\n",
    "#Generate the list of all keys in the network data\n",
    "# \"bus\"\n",
    "# \"source_type\"\n",
    "# \"name\"\n",
    "# \"dcline\"\n",
    "# \"source_version\"\n",
    "# \"gen\"\n",
    "# \"branch\"\n",
    "# \"storage\"\n",
    "# \"switch\"\n",
    "# \"baseMVA\"\n",
    "# \"per_unit\"\n",
    "# \"shunt\"\n",
    "# \"load\"\n",
    "super_keys = collect(keys(network_data))\n",
    "\n",
    "#Collect the keys for the bus data, gives the name of every bus\n",
    "bus_key_num = 1;\n",
    "bus_name_keys, bus_info_keys, bus_matrix = convert_to_mat(super_keys, bus_key_num, network_data)\n",
    "bus_matrix = reorder_mat_from_name_key(bus_matrix, bus_name_keys)\n",
    "\n",
    "#Reconstruct branch data matrix\n",
    "branch_key_num = 7;\n",
    "branch_name_keys, branch_info_keys, branch_matrix = convert_to_mat(super_keys, branch_key_num, network_data)\n",
    "branch_matrix = reorder_mat_from_name_key(branch_matrix, branch_name_keys)\n",
    "\n",
    "#Reconstruct the load data matrix\n",
    "load_key_num = 13;\n",
    "load_name_keys, load_info_keys, load_matrix = convert_to_mat(super_keys, load_key_num, network_data)\n",
    "load_matrix = reorder_mat_from_name_key(load_matrix, load_name_keys)\n"
   ]
  },
  {
   "cell_type": "code",
   "execution_count": 69,
   "id": "ed80a98e",
   "metadata": {},
   "outputs": [
    {
     "data": {
      "text/plain": [
       "save_to_CSV (generic function with 1 method)"
      ]
     },
     "metadata": {},
     "output_type": "display_data"
    }
   ],
   "source": [
    "function save_to_CSV(keys, matrix, file_name)\n",
    "    save_name = file_name * \".csv\"\n",
    "    df = DataFrame(matrix, keys)\n",
    "    CSV.write(save_name, df)\n",
    "end"
   ]
  },
  {
   "cell_type": "code",
   "execution_count": 71,
   "id": "8e2b123e",
   "metadata": {},
   "outputs": [
    {
     "data": {
      "text/plain": [
       "\"bus_data.csv\""
      ]
     },
     "metadata": {},
     "output_type": "display_data"
    }
   ],
   "source": [
    "save_to_CSV(load_info_keys, load_matrix, \"load_data\")\n",
    "save_to_CSV(branch_info_keys, branch_matrix, \"branch_data\")\n",
    "save_to_CSV(bus_info_keys, bus_matrix, \"bus_data\")\n"
   ]
  },
  {
   "cell_type": "code",
   "execution_count": 10,
   "id": "8905e46a-5ea1-4ad6-b0a6-92460e4614bf",
   "metadata": {},
   "outputs": [
    {
     "data": {
      "text/plain": [
       "39.87614338007717 - 105.02287856174772im"
      ]
     },
     "metadata": {},
     "output_type": "display_data"
    }
   ],
   "source": [
    "AdmitMat = PowerModels.calc_admittance_matrix(network_data)\n",
    "#This gives the network admittance matrix in complex rectangular form\n",
    "AdmitMat.matrix[1,1]"
   ]
  },
  {
   "cell_type": "code",
   "execution_count": 76,
   "id": "cbcd9e14-fdc9-482a-94c6-6c9c4812278f",
   "metadata": {},
   "outputs": [
    {
     "data": {
      "text/plain": [
       "\"B_mat.csv\""
      ]
     },
     "metadata": {},
     "output_type": "display_data"
    }
   ],
   "source": [
    "G = Matrix(real(AdmitMat.matrix))\n",
    "df = DataFrame(G, :auto)\n",
    "CSV.write(\"G_mat.csv\", df)\n",
    "B = Matrix(imag(AdmitMat.matrix))\n",
    "df = DataFrame(B, :auto)\n",
    "CSV.write(\"B_mat.csv\", df)"
   ]
  }
 ],
 "metadata": {
  "kernelspec": {
   "display_name": "Julia 1.10.5",
   "language": "julia",
   "name": "julia-1.10"
  },
  "language_info": {
   "file_extension": ".jl",
   "mimetype": "application/julia",
   "name": "julia",
   "version": "1.10.5"
  }
 },
 "nbformat": 4,
 "nbformat_minor": 5
}
