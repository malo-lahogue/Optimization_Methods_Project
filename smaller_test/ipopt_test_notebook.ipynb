{
 "cells": [
  {
   "cell_type": "code",
   "execution_count": 1,
   "metadata": {},
   "outputs": [],
   "source": [
    "# Import the required packages\n",
    "using JuMP\n",
    "using CSV\n",
    "using DataFrames\n",
    "using PowerModels\n",
    "using Ipopt\n",
    "using Juniper"
   ]
  },
  {
   "cell_type": "code",
   "execution_count": null,
   "metadata": {},
   "outputs": [
    {
     "data": {
      "text/plain": [
       "1×4 Matrix{Float64}:\n",
       " 0.0  0.4  0.4  0.4"
      ]
     },
     "metadata": {},
     "output_type": "display_data"
    }
   ],
   "source": [
    "#Read in data\n",
    "baseMVA = 1;\n",
    "\n",
    "bus_data = CSV.read(\"bus_data.csv\", DataFrame) |> Matrix;\n",
    "(num_busses, var) = size(bus_data);\n",
    "VMax = bus_data[:, 4];\n",
    "VMin = bus_data[:, 7]; \n",
    "load_data = CSV.read(\"load_data.csv\", DataFrame) |> Matrix;\n",
    "(num_loads, var) = size(load_data);\n",
    "branch_data = CSV.read(\"branch_data.csv\", DataFrame) |> Matrix;\n",
    "(num_branches, var) = size(branch_data)\n",
    "G = CSV.read(\"G_mat.csv\", DataFrame) |> Matrix;\n",
    "B = CSV.read(\"B_mat.csv\", DataFrame)|> Matrix;\n",
    "\n",
    "#Expand the Pd data such that non load busses are given power demands of 0\n",
    "Pd = load_data[:,5]*baseMVA\n",
    "load_busses = load_data[:,2];\n",
    "bus_idx = bus_data[:,2]; \n",
    "Pd_mod = zeros(1, num_busses);\n",
    "for i = 1:num_busses\n",
    "    idx = findall(isequal(bus_idx[i]), load_busses)\n",
    "    if !isempty(idx)\n",
    "        Pd_mod[i] = Pd[idx[1]]\n",
    "    else\n",
    "        Pd_mod[i] = 0;\n",
    "    end\n",
    "end\n",
    "Pd = Pd_mod\n",
    "\n",
    "Qd = load_data[:,4]*baseMVA\n",
    "Qd_mod = zeros(1, num_busses);\n",
    "for i = 1:num_busses\n",
    "    idx = findall(isequal(bus_idx[i]), load_busses)\n",
    "    if !isempty(idx)\n",
    "        Qd_mod[i] = Qd[idx[1]]\n",
    "    else\n",
    "        Qd_mod[i] = 0;\n",
    "    end\n",
    "end\n",
    "Qd = Qd_mod"
   ]
  },
  {
   "cell_type": "code",
   "execution_count": null,
   "metadata": {},
   "outputs": [
    {
     "name": "stdout",
     "output_type": "stream",
     "text": [
      "nl_solver         : MathOptInterface.OptimizerWithAttributes(Ipopt.Optimizer, Pair{MathOptInterface.AbstractOptimizerAttribute, Any}[MathOptInterface.RawOptimizerAttribute(\"print_level\") => 0])\n",
      "feasibility_pump  : false\n",
      "log_levels        : [:Options, :Table, :Info]\n",
      "\n",
      "#Variables: 49\n",
      "#IntBinVar: 4\n",
      "Obj Sense: Min\n",
      "\n",
      "Start values are not feasible.\n",
      "Status of relaxation: LOCALLY_SOLVED\n",
      "Time for relaxation: 0.15000009536743164\n",
      "Relaxation Obj: 2.3462474683071357\n",
      "\n",
      " ONodes   CLevel          Incumbent                   BestBound            Gap    Time   Restarts  GainGap  \n",
      "============================================================================================================\n",
      "    2       2                 -                          2.35               -     0.1       0         -     \n",
      "    3       3                 -                          2.35               -     0.1       -       96.2%   \n",
      "    4       4                 -                          2.36               -     0.1       -       92.3%   \n",
      "    3       5               12.36                        2.36             80.9%   0.2       -       83.3%   \n",
      "    3       3               12.36                       12.35             0.11%   0.2       -       89.4%   \n",
      "    3       4               12.36                       12.35             0.11%   0.2       -       95.8%   \n",
      "    2       5               12.36                       12.35             0.1%    0.2       -       99.0%   \n",
      "    2       4               12.36                       12.35             0.09%   0.3       -       97.6%   \n",
      "    0       5               12.351                      12.35             0.01%   0.3       -       97.3%   \n",
      "\n",
      "#branches: 9\n",
      "Obj: 12.351183097928025\n"
     ]
    }
   ],
   "source": [
    "optimizer = Juniper.Optimizer\n",
    "nl_solver = optimizer_with_attributes(Ipopt.Optimizer, \"print_level\" => 0)\n",
    "\n",
    "model = Model(optimizer_with_attributes(optimizer, \"nl_solver\"=>nl_solver))\n",
    "\n",
    "@variable(model, V[1:num_busses] >= 0)\n",
    "@variable(model, theta[1:num_busses])\n",
    "@variable(model, PG[1:num_busses] >= 0)\n",
    "@variable(model, QG[1:num_busses] >= 0)\n",
    "@variable(model, y[1:num_busses] >= 0)\n",
    "@variable(model, x[1:num_busses], Bin)\n",
    "@variable(model, Ploss[1:num_busses] >= 0)\n",
    "@variable(model, Qloss[1:num_busses] >= 0)\n",
    "@variable(model, I[1:num_busses, 1:num_busses] >= 0)\n",
    "@variable(model, VP >= 0)\n",
    "\n",
    "M = 10000;\n",
    "\n",
    "#In bus data, a 3 indicates the slack bus, the connection to the grid\n",
    "slack_idx = findall(isequal(3), bus_data[:,3])\n",
    "non_slack_num = filter(x->x!=slack_idx, 1:num_busses)\n",
    "\n",
    "@constraint(model, [i in 1:num_busses], y[i] <= M*x[i])\n",
    "@NLconstraint(model, [i in 1:num_busses], PG[i] - Pd[i] + Ploss[i] == sum((V[i]*V[j])*(G[i,j]*cos(theta[i]-theta[j])+B[i,j]*sin(theta[i]-theta[j])) for j in 1:num_busses))\n",
    "@constraint(model, [i in 1:num_busses], Ploss[i] <= Pd[i])\n",
    "@NLconstraint(model, [i in 1:num_busses], QG[i] - Qd[i] == sum((V[i]*V[j])*(G[i,j]*sin(theta[i]-theta[j])-B[i,j]*cos(theta[i]-theta[j])) for j in 1:num_busses))\n",
    "#This case has no flow limits\n",
    "#@NLconstraint(model, [i in 1:num_busses, j in 1:num_busses], I[i,j] == sqrt(G[i,j]^2+B[i,j]^2)*sqrt(V[i]^2+V[j]^2-2*V[i]*V[j]*cos(theta[j]-theta[i])))\n",
    "#When using capacity constraint sqrt(Pg^2+Qg^2) <= y, becomes infeasible\n",
    "@constraint(model, [i in 1:num_busses], PG[i]+QG[i] <= y[i])\n",
    "#This case has no flow limits\n",
    "#@constraint(model, [i in 1:num_busses, j in 1:num_busses] I[i,j] <= Imax[i,j])\n",
    "@constraint(model, [i in non_slack_num], VMin[i] <= V[i] <= VMax[i])\n",
    "#@constraint(model, V[1] == 0)\n",
    "#@constraint(model, theta[1] == 0)\n",
    "@constraint(model, VP == sum(V[i]*Pd[i] for i in 1:num_busses))\n",
    "@constraint(model, [i in 1:num_busses],  -pi/2 <= theta[i] <= pi/2 )\n",
    "\n",
    "#Varying these parameters changes output behavior\n",
    "#When gamma < 1, tends to just shed all load, bad!\n",
    "#For gamma = 1, and slightly above sheds some load, for gamma well above 1, like 2, \n",
    "#Serves all load. Interesting! Hyper parameter tuning \n",
    "c_fix = 10;\n",
    "c_var = 1;\n",
    "beta = .5;\n",
    "gamma = 1.5;\n",
    "\n",
    "@objective(model, Min, sum(c_fix*x[i]+c_var*y[i] for i in 1:num_busses) +\n",
    "                        beta*VP +\n",
    "                        gamma*sum(Ploss[i] for i in 1:num_busses))\n",
    "\n",
    "optimize!(model)\n"
   ]
  },
  {
   "cell_type": "code",
   "execution_count": 45,
   "metadata": {},
   "outputs": [
    {
     "data": {
      "text/plain": [
       "4-element Vector{Float64}:\n",
       " 3.460324020625361e-9\n",
       " 1.8066931468091925\n",
       " 3.4756315139929996e-9\n",
       " 3.749080262056067e-9"
      ]
     },
     "metadata": {},
     "output_type": "display_data"
    }
   ],
   "source": [
    "JuMP.value.(y)"
   ]
  }
 ],
 "metadata": {
  "kernelspec": {
   "display_name": "Julia 1.10.5",
   "language": "julia",
   "name": "julia-1.10"
  },
  "language_info": {
   "file_extension": ".jl",
   "mimetype": "application/julia",
   "name": "julia",
   "version": "1.10.5"
  }
 },
 "nbformat": 4,
 "nbformat_minor": 2
}
